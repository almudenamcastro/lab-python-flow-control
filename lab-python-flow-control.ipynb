{
 "cells": [
  {
   "cell_type": "markdown",
   "id": "d3bfc191-8885-42ee-b0a0-bbab867c6f9f",
   "metadata": {
    "tags": []
   },
   "source": [
    "# Lab | Flow Control"
   ]
  },
  {
   "cell_type": "markdown",
   "id": "3851fcd1-cf98-4653-9c89-e003b7ec9400",
   "metadata": {},
   "source": [
    "## Exercise: Managing Customer Orders Optimized\n",
    "\n",
    "In the last lab, you were starting an online store that sells various products. To ensure smooth operations, you developed a program that manages customer orders and inventory.\n",
    "\n",
    "You did so without using flow control. Let's go a step further and improve this code.\n",
    "\n",
    "Follow the steps below to complete the exercise:\n",
    "\n",
    "1. Look at your code from the lab data structures, and improve repeated code with loops.\n",
    "2. Instead of asking the user to input the name of three products that a customer wants to order, do the following:\n",
    "    \n",
    "    a. Prompt the user to enter the name of a product that a customer wants to order.\n",
    "    \n",
    "    b. Add the product name to the \"customer_orders\" set.\n",
    "    \n",
    "    c. Ask the user if they want to add another product (yes/no).\n",
    "    \n",
    "    d. Continue the loop until the user does not want to add another product.\n",
    "\n",
    "3. Instead of updating the inventory by subtracting 1 from the quantity of each product, only do it for  the products that were ordered (those in \"customer_orders\")."
   ]
  },
  {
   "cell_type": "code",
   "execution_count": 1,
   "id": "c5e200a0",
   "metadata": {},
   "outputs": [
    {
     "name": "stdout",
     "output_type": "stream",
     "text": [
      "1 t-shirt was added to your order\n",
      "1 mug was added to your order\n",
      "1 book was added to your order\n",
      "this is your order:  {'t-shirt', 'mug', 'book'}\n",
      "this is the customer order: {'t-shirt', 'mug', 'book'}\n",
      "The order contains 3 products\n",
      "The customer ordered 20.00 % of the t-shirts in your inventory\n",
      "The customer ordered 16.67 % of the mugs in your inventory\n",
      "The customer ordered 12.50 % of the books in your inventory\n",
      "Globally, the customer ordered 8.57 % of your total inventory\n",
      "Order Statistics:\n",
      "Total Products Ordered: 3\n",
      "Percentage of Products Ordered: 8.57 %\n",
      "\n",
      "this is your updated inventory: \n",
      "4 t-shirts\n",
      "5 mugs\n",
      "7 hats\n",
      "7 books\n",
      "9 keychains\n"
     ]
    }
   ],
   "source": [
    "# 1. Look at your code from the lab data structures, and improve repeated code with loops. \n",
    "\n",
    "# 1.1 initialise products and inventory. \n",
    "\n",
    "products = [\"t-shirt\", \"mug\", \"hat\", \"book\", \"keychain\"]\n",
    "\n",
    "inventory = {}\n",
    "\n",
    "# 1.3 ask for products in the inventory. \n",
    "\n",
    "for product in products: \n",
    "    while product not in inventory: \n",
    "        try:\n",
    "            inventory[product] = int(input(f\"How many {product}s do you have? \"))\n",
    "        except:\n",
    "            print(\"sorry, I need an integer, your answer wasn't registered\")\n",
    "\n",
    "inventory\n",
    "\n",
    "\n",
    "customer_orders=set()\n",
    "\n",
    "while len(customer_orders) < 3:\n",
    "  product = input('''What product to you want to add to your order?\n",
    "            ''' + str(list(inventory.keys())))\n",
    "  if product in inventory:\n",
    "    if inventory[product] > 0:     \n",
    "      customer_orders.add(product)\n",
    "      print(f\"1 {product} was added to your order\")\n",
    "    else: \n",
    "      print(f'''sorry, we have run out of {product}. Try a different product:\n",
    "      '''  + str(list(inventory.keys())))\n",
    "  else: \n",
    "    print(f'''sorry, we don't have {product}. Choose between the following options:\n",
    "    '''  + str(list(inventory.keys())))\n",
    "\n",
    "print(\"this is your order: \", customer_orders)\n",
    "# 6\n",
    "\n",
    "print(\"this is the customer order:\", customer_orders)\n",
    "\n",
    "#7\n",
    "\n",
    "print(f\"The order contains {len(customer_orders)} products\")\n",
    "\n",
    "for product in customer_orders:\n",
    "  print(f\"The customer ordered {100*1/inventory[product]:.2f} % of the {product}s in your inventory\")\n",
    "\n",
    "\n",
    "order_status=(len(customer_orders) , 100*len(customer_orders)/sum(inventory.values()))\n",
    "\n",
    "print(f\"Globally, the customer ordered {order_status[1]:.2f} % of your total inventory\")\n",
    "\n",
    "\n",
    "#8\n",
    "print(f'''Order Statistics:\n",
    "Total Products Ordered: {order_status[0]}\n",
    "Percentage of Products Ordered: {order_status[1]:.2f} %\n",
    "''')\n",
    "\n",
    "#9 \n",
    "for product in customer_orders:\n",
    "    inventory[product]-=1\n",
    "\n",
    "sum(inventory.values())\n",
    "\n",
    "#10 \n",
    "print(\"this is your updated inventory: \")\n",
    "for key in inventory:\n",
    "    print(inventory[key], key+\"s\")\n"
   ]
  },
  {
   "cell_type": "code",
   "execution_count": 7,
   "id": "370b966f",
   "metadata": {},
   "outputs": [
    {
     "name": "stdout",
     "output_type": "stream",
     "text": [
      "1 mug was added to your order\n",
      "this is your order:  {'mug'}\n"
     ]
    }
   ],
   "source": [
    "\n",
    "# 2. Instead of asking the user to input the name of three products that a customer wants to order, do the following:\n",
    "#    \n",
    "#    a. Prompt the user to enter the name of a product that a customer wants to order.\n",
    "#    \n",
    "#    b. Add the product name to the \"customer_orders\" set.\n",
    "#    \n",
    "#    c. Ask the user if they want to add another product (yes/no).\n",
    "#    \n",
    "#    d. Continue the loop until the user does not want to add another product.\n",
    "\n",
    "customer_orders=set()\n",
    "wants_to_add=\"yes\"\n",
    "\n",
    "while wants_to_add.lower()==\"yes\" and len(customer_orders) < len(inventory):\n",
    "  product = input('''What product to you want to add to your order?\\n''' + str(list(inventory.keys())))\n",
    "  if product in inventory:\n",
    "    if inventory[product] > 0:     \n",
    "      customer_orders.add(product)\n",
    "      print(f\"1 {product} was added to your order\")\n",
    "    else: \n",
    "      print(f'''sorry, we have run out of {product}. Try a different product:\n",
    "      '''  + str(list(inventory.keys())))\n",
    "  else: \n",
    "    print(f'''sorry, we don't have {product}. Choose between the following options:\n",
    "    '''  + str(list(inventory.keys())))\n",
    "  wants_to_add = input(\"do you want to add something else? (yes/no)\")\n",
    "\n",
    "if len(customer_orders) == len (inventory):\n",
    "  print(\"tol pescao vendío\")\n",
    "\n",
    "print(\"this is your order: \", customer_orders)\n"
   ]
  },
  {
   "cell_type": "code",
   "execution_count": null,
   "id": "2f6be1c8",
   "metadata": {},
   "outputs": [],
   "source": [
    "# 3. Instead of updating the inventory by subtracting 1 from the quantity of each product, only do it for  the products that were ordered (those in \"customer_orders\").\n",
    "for product in customer_orders:\n",
    "    inventory[product]-=1"
   ]
  },
  {
   "cell_type": "markdown",
   "id": "753dba10",
   "metadata": {},
   "source": []
  }
 ],
 "metadata": {
  "kernelspec": {
   "display_name": "Python 3 (ipykernel)",
   "language": "python",
   "name": "python3"
  },
  "language_info": {
   "codemirror_mode": {
    "name": "ipython",
    "version": 3
   },
   "file_extension": ".py",
   "mimetype": "text/x-python",
   "name": "python",
   "nbconvert_exporter": "python",
   "pygments_lexer": "ipython3",
   "version": "3.12.4"
  }
 },
 "nbformat": 4,
 "nbformat_minor": 5
}
